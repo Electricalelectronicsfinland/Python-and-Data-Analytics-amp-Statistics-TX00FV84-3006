{
 "cells": [
  {
   "cell_type": "markdown",
   "id": "e3af01f0-eb01-4668-ba00-755922f5413a",
   "metadata": {},
   "source": [
    "## Hands-on - Basic Statistics in Python"
   ]
  },
  {
   "cell_type": "code",
   "execution_count": 27,
   "id": "a56353bd",
   "metadata": {},
   "outputs": [
    {
     "name": "stdout",
     "output_type": "stream",
     "text": [
      "Dataset Preview:\n",
      "   id    age  sex  height  weight  ap_hi  ap_lo  cholesterol  gluc  smoke  \\\n",
      "0   0  18393    2     168    62.0    110     80            1     1      0   \n",
      "1   1  20228    1     156    85.0    140     90            3     1      0   \n",
      "2   2  18857    1     165    64.0    130     70            3     1      0   \n",
      "3   3  17623    2     169    82.0    150    100            1     1      0   \n",
      "4   4  17474    1     156    56.0    100     60            1     1      0   \n",
      "\n",
      "   alco  active  cardio  \n",
      "0     0       1       0  \n",
      "1     0       1       1  \n",
      "2     0       0       1  \n",
      "3     0       1       1  \n",
      "4     0       0       0  \n"
     ]
    }
   ],
   "source": [
    "# Import necessary libraries\n",
    "import pandas as pd  # for handling tabular datasets\n",
    "import numpy as np  # for numerical computations\n",
    "from scipy import stats  # for statistical operations\n",
    "import matplotlib.pyplot as plt  # for plotting\n",
    "import seaborn as sns  # for advanced statistical plots\n",
    "\n",
    "# Load dataset from GitHub URL\n",
    "file_path = \"https://raw.githubusercontent.com/Hamed-Ahmadinia/DASP-2025/refs/heads/main/medical_examination.csv\"  # URL link to the dataset stored on GitHub\n",
    "\n",
    "# Read the dataset into a pandas dataframe\n",
    "df = pd.read_csv(file_path)  # Load the dataset as a pandas DataFrame\n",
    "\n",
    "# Display the first few rows of the dataframe to confirm the data has been loaded correctly\n",
    "print(\"Dataset Preview:\")  # Print a label for context\n",
    "print(df.head(5))  # Display the first 5 rows of the dataset"
   ]
  },
  {
   "cell_type": "markdown",
   "id": "878fcaa5-7ebc-401a-99ae-c16c1c24bb9f",
   "metadata": {},
   "source": [
    "### **Exercise 1: Display Dataset Information**\n",
    "**Question:** Use df.info() to display basic information about the dataset."
   ]
  },
  {
   "cell_type": "code",
   "execution_count": 29,
   "id": "ce2da9e1-00e5-477a-ab10-0afdc58ff97a",
   "metadata": {},
   "outputs": [
    {
     "name": "stdout",
     "output_type": "stream",
     "text": [
      "<class 'pandas.core.frame.DataFrame'>\n",
      "RangeIndex: 70000 entries, 0 to 69999\n",
      "Data columns (total 13 columns):\n",
      " #   Column       Non-Null Count  Dtype  \n",
      "---  ------       --------------  -----  \n",
      " 0   id           70000 non-null  int64  \n",
      " 1   age          70000 non-null  int64  \n",
      " 2   sex          70000 non-null  int64  \n",
      " 3   height       70000 non-null  int64  \n",
      " 4   weight       70000 non-null  float64\n",
      " 5   ap_hi        70000 non-null  int64  \n",
      " 6   ap_lo        70000 non-null  int64  \n",
      " 7   cholesterol  70000 non-null  int64  \n",
      " 8   gluc         70000 non-null  int64  \n",
      " 9   smoke        70000 non-null  int64  \n",
      " 10  alco         70000 non-null  int64  \n",
      " 11  active       70000 non-null  int64  \n",
      " 12  cardio       70000 non-null  int64  \n",
      "dtypes: float64(1), int64(12)\n",
      "memory usage: 6.9 MB\n"
     ]
    }
   ],
   "source": [
    "# Your code here:\n",
    "df.info()"
   ]
  },
  {
   "cell_type": "markdown",
   "id": "7186c00d-4ac0-4853-8977-728f17e0ab64",
   "metadata": {},
   "source": [
    "### **Exercise 2: Calculate Minimum and Maximum Values**  \r\n",
    "**Question:** Calculate the **minimum** and **maximum** values for the following columns:  \r\n",
    "\r\n",
    "- **\"height\"**  \r\n",
    "- **\"weight\"**  \r\n",
    "- **\"ap_hi\"** (systolic blood pressure)  \r\n",
    "- **\"ap_lo\"** (diasblood pressure)re)  \r\n"
   ]
  },
  {
   "cell_type": "code",
   "execution_count": 31,
   "id": "40ffded5-78e1-43f9-b0ab-979662f0e3b1",
   "metadata": {},
   "outputs": [
    {
     "name": "stdout",
     "output_type": "stream",
     "text": [
      "Minimum Values:\n",
      "Height: 55, Weight: 10.0, Systolic BP: -150, Diastolic BP: -70\n",
      "\n",
      "Maximum Values:\n",
      "Height: 250, Weight: 200.0, Systolic BP: 16020, Diastolic BP: 11000\n"
     ]
    }
   ],
   "source": [
    "# Your code here:\n",
    "# Minimum values\n",
    "min_height = df['height'].min()\n",
    "min_weight = df['weight'].min()\n",
    "min_ap_hi = df['ap_hi'].min()\n",
    "min_ap_lo = df['ap_lo'].min()\n",
    "\n",
    "# Maximum values\n",
    "max_height = df['height'].max()\n",
    "max_weight = df['weight'].max()\n",
    "max_ap_hi = df['ap_hi'].max()\n",
    "max_ap_lo = df['ap_lo'].max()\n",
    "\n",
    "print(\"Minimum Values:\")\n",
    "print(f\"Height: {min_height}, Weight: {min_weight}, Systolic BP: {min_ap_hi}, Diastolic BP: {min_ap_lo}\")\n",
    "print(\"\\nMaximum Values:\")\n",
    "print(f\"Height: {max_height}, Weight: {max_weight}, Systolic BP: {max_ap_hi}, Diastolic BP: {max_ap_lo}\")"
   ]
  },
  {
   "cell_type": "markdown",
   "id": "abb7e8b6-88f3-4c20-a706-1866b901f936",
   "metadata": {},
   "source": [
    "### **Exercise 3: Compute Measures of Central Tendency**  \n",
    "**Question:** Calculate the **mean**, **median**, and **mode** for the specified columns:  \n",
    "\n",
    "- **Mean:** Compute the mean of the **\"weight\"** column.  \n",
    "- **Median:** Compute the median of the **\"ap_hi\"** (systolic blood pressure) column.  \n",
    "- **Mode:** Compute the mode of the **\"gender\"** column.  "
   ]
  },
  {
   "cell_type": "code",
   "execution_count": 33,
   "id": "f2530035-c7dc-49e8-b34a-6eb82408850c",
   "metadata": {},
   "outputs": [
    {
     "name": "stdout",
     "output_type": "stream",
     "text": [
      "Mean Weight: 74.20569\n",
      "Median Systolic BP: 120.0\n",
      "Mode of Gender: 1\n"
     ]
    }
   ],
   "source": [
    "# Your code here:\n",
    "# Mean of weight\n",
    "mean_weight = df['weight'].mean()\n",
    "\n",
    "# Median of ap_hi\n",
    "median_ap_hi = df['ap_hi'].median()\n",
    "\n",
    "# Mode of gender (assuming 'sex' is the gender column)\n",
    "mode_gender = df['sex'].mode()[0]\n",
    "\n",
    "print(f\"Mean Weight: {mean_weight}\")\n",
    "print(f\"Median Systolic BP: {median_ap_hi}\")\n",
    "print(f\"Mode of Gender: {mode_gender}\")\n"
   ]
  },
  {
   "cell_type": "markdown",
   "id": "3542b40f-45c0-4b19-a00b-6832bb1f8933",
   "metadata": {},
   "source": [
    "### **Exercise 4: Compute Quantiles and Interquartile Range (IQR)**  \r\n",
    "**Question:** Compute the **Q1**, **Q2 (median)**, and **Q3** for the **\"cholesterol\"** column and calculate the **Interquartile Range (IQR)**. \r\n"
   ]
  },
  {
   "cell_type": "code",
   "execution_count": 45,
   "id": "e71a544c-dafa-4277-93fc-55877a245927",
   "metadata": {},
   "outputs": [
    {
     "name": "stdout",
     "output_type": "stream",
     "text": [
      "Q1: 1.0, Q2 (Median): 1.0, Q3: 2.0\n",
      "IQR: 1.0\n"
     ]
    }
   ],
   "source": [
    "# Your code here:\n",
    "# Quantiles\n",
    "Q1 = df['cholesterol'].quantile(0.25)\n",
    "Q2 = df['cholesterol'].median()\n",
    "Q3 = df['cholesterol'].quantile(0.75)\n",
    "\n",
    "# IQR\n",
    "IQR = Q3 - Q1\n",
    "\n",
    "print(f\"Q1: {Q1}, Q2 (Median): {Q2}, Q3: {Q3}\")\n",
    "print(f\"IQR: {IQR}\")"
   ]
  },
  {
   "cell_type": "markdown",
   "id": "6fc3984d-5b71-4117-8ab8-f9bc81434f13",
   "metadata": {},
   "source": [
    "### **Exercise 5: Grouped Analysis by Gender**  \r\n",
    "**Question:** Calculate the **mean** of the **\"weight\"** column grouped by **\"gender\"**. \r\n"
   ]
  },
  {
   "cell_type": "code",
   "execution_count": 47,
   "id": "a45846a0-4136-4985-a2e1-f9706ee40ce6",
   "metadata": {},
   "outputs": [
    {
     "name": "stdout",
     "output_type": "stream",
     "text": [
      "sex\n",
      "1    72.565902\n",
      "2    77.258565\n",
      "3    69.818182\n",
      "Name: weight, dtype: float64\n"
     ]
    }
   ],
   "source": [
    "# Your code here:\n",
    "mean_weight_by_gender = df.groupby('sex')['weight'].mean()\n",
    "print(mean_weight_by_gender)"
   ]
  },
  {
   "cell_type": "code",
   "execution_count": null,
   "id": "965dc9bb-30e5-4df7-a4b9-3b11593aec83",
   "metadata": {},
   "outputs": [],
   "source": []
  }
 ],
 "metadata": {
  "kernelspec": {
   "display_name": "Python [conda env:base] *",
   "language": "python",
   "name": "conda-base-py"
  },
  "language_info": {
   "codemirror_mode": {
    "name": "ipython",
    "version": 3
   },
   "file_extension": ".py",
   "mimetype": "text/x-python",
   "name": "python",
   "nbconvert_exporter": "python",
   "pygments_lexer": "ipython3",
   "version": "3.12.7"
  }
 },
 "nbformat": 4,
 "nbformat_minor": 5
}
