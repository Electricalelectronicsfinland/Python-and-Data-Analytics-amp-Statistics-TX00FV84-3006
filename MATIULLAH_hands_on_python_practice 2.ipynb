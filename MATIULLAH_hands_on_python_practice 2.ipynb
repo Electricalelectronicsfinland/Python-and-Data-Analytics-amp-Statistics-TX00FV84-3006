{
 "cells": [
  {
   "cell_type": "markdown",
   "id": "e3af01f0-eb01-4668-ba00-755922f5413a",
   "metadata": {},
   "source": [
    "## Hands-on - Matrices, DataFrames, and Time-Series Data"
   ]
  },
  {
   "cell_type": "code",
   "execution_count": 3,
   "id": "a56353bd",
   "metadata": {},
   "outputs": [
    {
     "name": "stdout",
     "output_type": "stream",
     "text": [
      "Dataset Preview:\n",
      "         Date  Day     Month  Year  Customer_Age       Age_Group  \\\n",
      "0  2013-11-26   26  November  2013            19     Youth (<25)   \n",
      "1  2015-11-26   26  November  2015            19     Youth (<25)   \n",
      "2  2014-03-23   23     March  2014            49  Adults (35-64)   \n",
      "3  2016-03-23   23     March  2016            49  Adults (35-64)   \n",
      "4  2014-05-15   15       May  2014            47  Adults (35-64)   \n",
      "\n",
      "  Customer_Gender    Country             State Product_Category Sub_Category  \\\n",
      "0               M     Canada  British Columbia      Accessories   Bike Racks   \n",
      "1               M     Canada  British Columbia      Accessories   Bike Racks   \n",
      "2               M  Australia   New South Wales      Accessories   Bike Racks   \n",
      "3               M  Australia   New South Wales      Accessories   Bike Racks   \n",
      "4               F  Australia   New South Wales      Accessories   Bike Racks   \n",
      "\n",
      "               Product  Order_Quantity  Unit_Cost  Unit_Price  Profit  Cost  \\\n",
      "0  Hitch Rack - 4-Bike               8         45         120     590   360   \n",
      "1  Hitch Rack - 4-Bike               8         45         120     590   360   \n",
      "2  Hitch Rack - 4-Bike              23         45         120    1366  1035   \n",
      "3  Hitch Rack - 4-Bike              20         45         120    1188   900   \n",
      "4  Hitch Rack - 4-Bike               4         45         120     238   180   \n",
      "\n",
      "   Revenue  \n",
      "0      950  \n",
      "1      950  \n",
      "2     2401  \n",
      "3     2088  \n",
      "4      418  \n"
     ]
    }
   ],
   "source": [
    "# Import necessary libraries\n",
    "import pandas as pd  # pandas is used for handling tabular datasets (dataframes) and performing operations such as reading CSV files\n",
    "import numpy as np  # numpy is used for numerical computations such as working with arrays and applying mathematical operations\n",
    "\n",
    "# Load dataset from GitHub URL\n",
    "file_path = \"https://raw.githubusercontent.com/Hamed-Ahmadinia/DASP-2025/main/Bike%20Sales.csv\"  # URL link to the dataset stored on GitHub\n",
    "\n",
    "# Read the dataset into a pandas dataframe\n",
    "df = pd.read_csv(file_path)  # Load the dataset as a pandas DataFrame\n",
    "\n",
    "# Display the first few rows of the dataframe to confirm the data has been loaded correctly\n",
    "print(\"Dataset Preview:\")  # Print a label for context\n",
    "print(df.head(5))  # Display the first 5 rows of the dataset"
   ]
  },
  {
   "cell_type": "markdown",
   "id": "878fcaa5-7ebc-401a-99ae-c16c1c24bb9f",
   "metadata": {},
   "source": [
    "### **Exercise 1: Convert the \"Date\" column to datetime format**\n",
    "**Question:** Convert the \"Date\" column to pandas datetime format."
   ]
  },
  {
   "cell_type": "code",
   "execution_count": 2,
   "id": "ce2da9e1-00e5-477a-ab10-0afdc58ff97a",
   "metadata": {},
   "outputs": [
    {
     "name": "stdout",
     "output_type": "stream",
     "text": [
      "Data type of Date column: datetime64[ns]\n"
     ]
    }
   ],
   "source": [
    "# Your code here:\n",
    "# Assuming your dataframe is called 'df'\n",
    "# Convert the Date column to datetime format\n",
    "df['Date'] = pd.to_datetime(df['Date'])\n",
    "# Verify the conversion by checking the data type\n",
    "print(\"Data type of Date column:\", df['Date'].dtype)"
   ]
  },
  {
   "cell_type": "markdown",
   "id": "b0bedc1a-82f4-472f-a559-f6625a766672",
   "metadata": {},
   "source": [
    "### **Exercise 2: Set the \"Date\" column as the index**\n",
    "**Question:** Set the \"Date\" column as the index of the DataFrame."
   ]
  },
  {
   "cell_type": "code",
   "execution_count": 3,
   "id": "40ffded5-78e1-43f9-b0ab-979662f0e3b1",
   "metadata": {},
   "outputs": [
    {
     "name": "stdout",
     "output_type": "stream",
     "text": [
      "DatetimeIndex(['2013-11-26', '2015-11-26', '2014-03-23', '2016-03-23',\n",
      "               '2014-05-15', '2016-05-15', '2014-05-22', '2016-05-22',\n",
      "               '2014-02-22', '2016-02-22',\n",
      "               ...\n",
      "               '2013-07-08', '2015-07-08', '2013-12-28', '2015-12-28',\n",
      "               '2014-04-12', '2016-04-12', '2014-04-02', '2016-04-02',\n",
      "               '2014-03-04', '2016-03-04'],\n",
      "              dtype='datetime64[ns]', name='Date', length=113036, freq=None)\n",
      "\n",
      "First few rows of the DataFrame:\n",
      "                 Date  Day     Month  Year  Customer_Age       Age_Group  \\\n",
      "Date                                                                       \n",
      "2013-11-26 2013-11-26   26  November  2013            19     Youth (<25)   \n",
      "2015-11-26 2015-11-26   26  November  2015            19     Youth (<25)   \n",
      "2014-03-23 2014-03-23   23     March  2014            49  Adults (35-64)   \n",
      "2016-03-23 2016-03-23   23     March  2016            49  Adults (35-64)   \n",
      "2014-05-15 2014-05-15   15       May  2014            47  Adults (35-64)   \n",
      "\n",
      "           Customer_Gender    Country             State Product_Category  \\\n",
      "Date                                                                       \n",
      "2013-11-26               M     Canada  British Columbia      Accessories   \n",
      "2015-11-26               M     Canada  British Columbia      Accessories   \n",
      "2014-03-23               M  Australia   New South Wales      Accessories   \n",
      "2016-03-23               M  Australia   New South Wales      Accessories   \n",
      "2014-05-15               F  Australia   New South Wales      Accessories   \n",
      "\n",
      "           Sub_Category              Product  Order_Quantity  Unit_Cost  \\\n",
      "Date                                                                      \n",
      "2013-11-26   Bike Racks  Hitch Rack - 4-Bike               8         45   \n",
      "2015-11-26   Bike Racks  Hitch Rack - 4-Bike               8         45   \n",
      "2014-03-23   Bike Racks  Hitch Rack - 4-Bike              23         45   \n",
      "2016-03-23   Bike Racks  Hitch Rack - 4-Bike              20         45   \n",
      "2014-05-15   Bike Racks  Hitch Rack - 4-Bike               4         45   \n",
      "\n",
      "            Unit_Price  Profit  Cost  Revenue  \n",
      "Date                                           \n",
      "2013-11-26         120     590   360      950  \n",
      "2015-11-26         120     590   360      950  \n",
      "2014-03-23         120    1366  1035     2401  \n",
      "2016-03-23         120    1188   900     2088  \n",
      "2014-05-15         120     238   180      418  \n"
     ]
    }
   ],
   "source": [
    "# Your code here:\n",
    "df = df.set_index(pd.to_datetime(df['Date']))\n",
    "# Verify the index\n",
    "print(df.index)\n",
    "print(\"\\nFirst few rows of the DataFrame:\")\n",
    "print(df.head())"
   ]
  },
  {
   "cell_type": "markdown",
   "id": "297d8ed4-6521-4c45-9b49-6a3483b83142",
   "metadata": {},
   "source": [
    "### **Exercise 3: Slice the data from '2013-01-01' to '2013-12-31'**\n",
    "**Question:** Slice the DataFrame to show data for the year 2013."
   ]
  },
  {
   "cell_type": "code",
   "execution_count": 6,
   "id": "f2530035-c7dc-49e8-b34a-6eb82408850c",
   "metadata": {},
   "outputs": [
    {
     "name": "stdout",
     "output_type": "stream",
     "text": [
      "Start date: 2013-01-01 00:00:00\n",
      "End date: 2013-12-31 00:00:00\n",
      "\n",
      "Number of rows: 24443\n",
      "\n",
      "First few rows:\n",
      "                 Date  Day      Month  Year  Customer_Age  \\\n",
      "Date                                                        \n",
      "2013-11-26 2013-11-26   26   November  2013            19   \n",
      "2013-07-30 2013-07-30   30       July  2013            32   \n",
      "2013-07-15 2013-07-15   15       July  2013            34   \n",
      "2013-08-02 2013-08-02    2     August  2013            29   \n",
      "2013-09-02 2013-09-02    2  September  2013            29   \n",
      "\n",
      "                       Age_Group Customer_Gender    Country             State  \\\n",
      "Date                                                                            \n",
      "2013-11-26           Youth (<25)               M     Canada  British Columbia   \n",
      "2013-07-30  Young Adults (25-34)               F  Australia          Victoria   \n",
      "2013-07-15  Young Adults (25-34)               M  Australia          Victoria   \n",
      "2013-08-02  Young Adults (25-34)               M     Canada  British Columbia   \n",
      "2013-09-02  Young Adults (25-34)               M     Canada  British Columbia   \n",
      "\n",
      "           Product_Category Sub_Category              Product  Order_Quantity  \\\n",
      "Date                                                                            \n",
      "2013-11-26      Accessories   Bike Racks  Hitch Rack - 4-Bike               8   \n",
      "2013-07-30      Accessories   Bike Racks  Hitch Rack - 4-Bike               8   \n",
      "2013-07-15      Accessories   Bike Racks  Hitch Rack - 4-Bike               7   \n",
      "2013-08-02      Accessories   Bike Racks  Hitch Rack - 4-Bike               5   \n",
      "2013-09-02      Accessories   Bike Racks  Hitch Rack - 4-Bike               2   \n",
      "\n",
      "            Unit_Cost  Unit_Price  Profit  Cost  Revenue  \n",
      "Date                                                      \n",
      "2013-11-26         45         120     590   360      950  \n",
      "2013-07-30         45         120     398   360      758  \n",
      "2013-07-15         45         120     349   315      664  \n",
      "2013-08-02         45         120     369   225      594  \n",
      "2013-09-02         45         120     148    90      238  \n"
     ]
    }
   ],
   "source": [
    "# Your code here:# Method 1: Basic slicing using loc\n",
    "df_2013 = df.loc['2013-01-01':'2013-12-31']\n",
    "\n",
    "# Method 2: Alternative using query with datetime index\n",
    "# df_2013 = df[df.index.year == 2013]\n",
    "\n",
    "# Method 3: If Date is not index but a datetime column\n",
    "# df_2013 = df[(df['Date'] >= '2013-01-01') & (df['Date'] <= '2013-12-31')]\n",
    "\n",
    "# Verify the date range\n",
    "print(\"Start date:\", df_2013.index.min())\n",
    "print(\"End date:\", df_2013.index.max())\n",
    "print(\"\\nNumber of rows:\", len(df_2013))\n",
    "print(\"\\nFirst few rows:\")\n",
    "print(df_2013.head())"
   ]
  },
  {
   "cell_type": "markdown",
   "id": "3542b40f-45c0-4b19-a00b-6832bb1f8933",
   "metadata": {},
   "source": [
    "### **Exercise 4: Calculate cumulative revenue**\n",
    "**Question:** Add a new column 'Cumulative_Revenue' that shows the cumulative sum of the revenue."
   ]
  },
  {
   "cell_type": "code",
   "execution_count": 7,
   "id": "e71a544c-dafa-4277-93fc-55877a245927",
   "metadata": {},
   "outputs": [
    {
     "name": "stdout",
     "output_type": "stream",
     "text": [
      "            Revenue  Cumulative_Revenue\n",
      "Date                                   \n",
      "2013-11-26      950                 950\n",
      "2015-11-26      950                1900\n",
      "2014-03-23     2401                4301\n",
      "2016-03-23     2088                6389\n",
      "2014-05-15      418                6807\n"
     ]
    }
   ],
   "source": [
    "# Your code here:\n",
    "# Assuming your DataFrame is called 'df' and has a 'Revenue' column\n",
    "# Method 1: Basic cumulative sum\n",
    "df['Cumulative_Revenue'] = df['Revenue'].cumsum()\n",
    "\n",
    "# Method 2: If you need cumulative sum by group (e.g., by date or category)\n",
    "# df['Cumulative_Revenue'] = df.groupby('Category')['Revenue'].cumsum()\n",
    "\n",
    "# Method 3: If you need cumulative sum by date\n",
    "# df['Cumulative_Revenue'] = df.sort_values('Date')['Revenue'].cumsum()\n",
    "\n",
    "# Display the first few rows to verify\n",
    "print(df[['Revenue', 'Cumulative_Revenue']].head())"
   ]
  },
  {
   "cell_type": "markdown",
   "id": "6fc3984d-5b71-4117-8ab8-f9bc81434f13",
   "metadata": {},
   "source": [
    "### **Exercise 5: Downsample to show monthly total revenue (Hint: Use resampling)**\n",
    "**Question:** Resample the data to calculate total monthly revenue."
   ]
  },
  {
   "cell_type": "code",
   "execution_count": 8,
   "id": "a45846a0-4136-4985-a2e1-f9706ee40ce6",
   "metadata": {},
   "outputs": [
    {
     "name": "stdout",
     "output_type": "stream",
     "text": [
      "Monthly Revenue:\n",
      "        Date  Revenue\n",
      "0 2011-01-31   675193\n",
      "1 2011-02-28   637598\n",
      "2 2011-03-31   708517\n",
      "3 2011-04-30   698782\n",
      "4 2011-05-31   734537\n"
     ]
    }
   ],
   "source": [
    "# Your code here:\n",
    "# Ensure Date is the index and in datetime format\n",
    "# If Date is not the index, uncomment the next line:\n",
    "# df.set_index('Date', inplace=True)\n",
    "\n",
    "# Basic monthly resampling\n",
    "monthly_revenue = df['Revenue'].resample('M').sum()\n",
    "\n",
    "# For more comprehensive statistics\n",
    "monthly_stats = df.resample('M').agg({\n",
    "    'Revenue': 'sum',\n",
    "    'Revenue': 'mean',  # average revenue per month\n",
    "    'Revenue': 'count'  # number of transactions\n",
    "}).round(2)\n",
    "\n",
    "# Optional: Reset index to make Date a column\n",
    "monthly_revenue = monthly_revenue.reset_index()\n",
    "\n",
    "# Display results\n",
    "print(\"Monthly Revenue:\")\n",
    "print(monthly_revenue.head())"
   ]
  },
  {
   "cell_type": "code",
   "execution_count": null,
   "id": "8fa7cc70-e18a-4a1f-9b8c-316cd5e2a12c",
   "metadata": {},
   "outputs": [],
   "source": []
  }
 ],
 "metadata": {
  "kernelspec": {
   "display_name": "anaconda-panel-2023.05-py310",
   "language": "python",
   "name": "conda-env-anaconda-panel-2023.05-py310-py"
  },
  "language_info": {
   "codemirror_mode": {
    "name": "ipython",
    "version": 3
   },
   "file_extension": ".py",
   "mimetype": "text/x-python",
   "name": "python",
   "nbconvert_exporter": "python",
   "pygments_lexer": "ipython3",
   "version": "3.11.5"
  }
 },
 "nbformat": 4,
 "nbformat_minor": 5
}
