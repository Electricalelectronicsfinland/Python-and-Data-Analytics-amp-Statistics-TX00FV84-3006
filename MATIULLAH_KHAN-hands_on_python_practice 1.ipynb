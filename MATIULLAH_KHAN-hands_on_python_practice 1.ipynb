{
 "cells": [
  {
   "cell_type": "markdown",
   "id": "e3af01f0-eb01-4668-ba00-755922f5413a",
   "metadata": {},
   "source": [
    "## Hands-on - Python ReCap 1"
   ]
  },
  {
   "cell_type": "code",
   "execution_count": 39,
   "id": "a56353bd",
   "metadata": {},
   "outputs": [
    {
     "name": "stdout",
     "output_type": "stream",
     "text": [
      "Dataset Preview:\n",
      "   age         workclass  fnlwgt  education  education-num  \\\n",
      "0   39         State-gov   77516  Bachelors             13   \n",
      "1   50  Self-emp-not-inc   83311  Bachelors             13   \n",
      "2   38           Private  215646    HS-grad              9   \n",
      "3   53           Private  234721       11th              7   \n",
      "4   28           Private  338409  Bachelors             13   \n",
      "\n",
      "       marital-status         occupation   relationship   race     sex  \\\n",
      "0       Never-married       Adm-clerical  Not-in-family  White    Male   \n",
      "1  Married-civ-spouse    Exec-managerial        Husband  White    Male   \n",
      "2            Divorced  Handlers-cleaners  Not-in-family  White    Male   \n",
      "3  Married-civ-spouse  Handlers-cleaners        Husband  Black    Male   \n",
      "4  Married-civ-spouse     Prof-specialty           Wife  Black  Female   \n",
      "\n",
      "   capital-gain  capital-loss  hours-per-week native-country salary  \n",
      "0          2174             0              40  United-States  <=50K  \n",
      "1             0             0              13  United-States  <=50K  \n",
      "2             0             0              40  United-States  <=50K  \n",
      "3             0             0              40  United-States  <=50K  \n",
      "4             0             0              40           Cuba  <=50K  \n"
     ]
    }
   ],
   "source": [
    "# 1. Import necessary libraries\n",
    "import pandas as pd  # pandas is used for handling tabular datasets (dataframes) and performing operations such as reading CSV files\n",
    "import numpy as np  # numpy is used for numerical computations such as working with arrays and applying mathematical operations\n",
    "\n",
    "# 2. Load dataset from GitHub URL\n",
    "file_path = \"https://raw.githubusercontent.com/Hamed-Ahmadinia/DASP-2025/main/adult.data.csv\"  # URL link to the dataset stored on GitHub\n",
    "\n",
    "# 3. Read the dataset into a pandas dataframe\n",
    "df = pd.read_csv(file_path, header=0)  # header=0 means the first row in the CSV is used as column names\n",
    "\n",
    "# 4. Display the first few rows of the dataframe to confirm the data has been loaded correctly\n",
    "print(\"Dataset Preview:\")  # Print a label for context\n",
    "print(df.head(5))  # Display the first 5 rows of the dataset"
   ]
  },
  {
   "cell_type": "markdown",
   "id": "d2fe1e77",
   "metadata": {},
   "source": [
    "### **Exercise 1: Common Python Operations**\n",
    "**Question:** Print the sum of the first row's `age` and `hours-per-week`."
   ]
  },
  {
   "cell_type": "code",
   "execution_count": 15,
   "id": "e4c0f73f-5efd-4ad6-b0d4-18b472b3fc3f",
   "metadata": {},
   "outputs": [
    {
     "name": "stdout",
     "output_type": "stream",
     "text": [
      "Sum of age and hours-per-week for the first row: 79\n"
     ]
    }
   ],
   "source": [
    "# Your code here\n",
    "# Sum of the first row's 'age' and 'hours-per-week'\n",
    "sum_age_hours = df.iloc[0]['age'] + df.iloc[0]['hours-per-week']\n",
    "print(\"Sum of age and hours-per-week for the first row:\", sum_age_hours)"
   ]
  },
  {
   "cell_type": "markdown",
   "id": "4c9f3e60",
   "metadata": {},
   "source": [
    "### **Exercise 2: String Manipulation**\n",
    "**Question:** Convert the first `workclass` entry to lowercase and strip any leading or trailing spaces."
   ]
  },
  {
   "cell_type": "code",
   "execution_count": 17,
   "id": "b2a4783c",
   "metadata": {},
   "outputs": [
    {
     "name": "stdout",
     "output_type": "stream",
     "text": [
      "First workclass entry after conversion: state-gov\n"
     ]
    }
   ],
   "source": [
    "# Your code here# Convert the first 'workclass' entry to lowercase and strip spaces\n",
    "first_workclass = df.iloc[0]['workclass'].strip().lower()\n",
    "print(\"First workclass entry after conversion:\", first_workclass)\n"
   ]
  },
  {
   "cell_type": "markdown",
   "id": "6f7f7a0a",
   "metadata": {},
   "source": [
    "### **Exercise 3: Lists in Python**\n",
    "**Question:** Create a list of the unique values in the `education` column and print its length."
   ]
  },
  {
   "cell_type": "code",
   "execution_count": 19,
   "id": "64bf4d82",
   "metadata": {},
   "outputs": [
    {
     "name": "stdout",
     "output_type": "stream",
     "text": [
      "Unique education values: ['Bachelors', 'HS-grad', '11th', 'Masters', '9th', 'Some-college', 'Assoc-acdm', 'Assoc-voc', '7th-8th', 'Doctorate', 'Prof-school', '5th-6th', '10th', '1st-4th', 'Preschool', '12th']\n",
      "Number of unique education values: 16\n"
     ]
    }
   ],
   "source": [
    "# Your code here\n",
    "# Create a list of unique values in the 'education' column\n",
    "unique_education = df['education'].unique().tolist()\n",
    "print(\"Unique education values:\", unique_education)\n",
    "print(\"Number of unique education values:\", len(unique_education))"
   ]
  },
  {
   "cell_type": "markdown",
   "id": "eddf6630",
   "metadata": {},
   "source": [
    "### **Exercise 4: Sets in Python**\n",
    "**Question:** Check if the value \"Self-employed\" exists in the unique set of `workclass` values."
   ]
  },
  {
   "cell_type": "code",
   "execution_count": 24,
   "id": "2a98a3b2",
   "metadata": {},
   "outputs": [
    {
     "name": "stdout",
     "output_type": "stream",
     "text": [
      "Does 'Self-employed' exist in workclass? False\n"
     ]
    }
   ],
   "source": [
    "# Your code here\n",
    "# Check if \"Self-employed\" exists in the unique set of 'workclass' values\n",
    "unique_workclass = set(df['workclass'].unique())\n",
    "print(\"Does 'Self-employed' exist in workclass?\", \"Self-employed\" in unique_workclass)\n"
   ]
  },
  {
   "cell_type": "markdown",
   "id": "bdbab979",
   "metadata": {},
   "source": [
    "### **Exercise 5: Dictionaries in Python**\n",
    "**Question:** Create a dictionary from the first row's data. Print the `occupation` value from the dictionary."
   ]
  },
  {
   "cell_type": "code",
   "execution_count": 26,
   "id": "1a2daae1",
   "metadata": {},
   "outputs": [
    {
     "name": "stdout",
     "output_type": "stream",
     "text": [
      "Occupation from the first row: Adm-clerical\n"
     ]
    }
   ],
   "source": [
    "# Your code here\n",
    "# Create a dictionary from the first row's data\n",
    "first_row_dict = df.iloc[0].to_dict()\n",
    "print(\"Occupation from the first row:\", first_row_dict['occupation'])\n"
   ]
  },
  {
   "cell_type": "markdown",
   "id": "51de8b97",
   "metadata": {},
   "source": [
    "### **Exercise 6: Conditional Statements in Python**\n",
    "**Question:** Write a function that returns \"Minor\" if the age is less than 18, \"Adult\" if between 18 and 65, and \"Senior\" if greater than 65. Test it on the first row's `age`."
   ]
  },
  {
   "cell_type": "code",
   "execution_count": 28,
   "id": "815ffb15",
   "metadata": {},
   "outputs": [
    {
     "name": "stdout",
     "output_type": "stream",
     "text": [
      "Age category for the first row: Adult\n"
     ]
    }
   ],
   "source": [
    "# Your code here\n",
    "# Function to categorize age\n",
    "def age_category(age):\n",
    "    if age < 18:\n",
    "        return \"Minor\"\n",
    "    elif 18 <= age <= 65:\n",
    "        return \"Adult\"\n",
    "    else:\n",
    "        return \"Senior\"\n",
    "\n",
    "# Test the function on the first row's age\n",
    "first_age = df.iloc[0]['age']\n",
    "print(\"Age category for the first row:\", age_category(first_age))\n"
   ]
  },
  {
   "cell_type": "markdown",
   "id": "9054a180",
   "metadata": {},
   "source": [
    "### **Exercise 7: For Loops**\n",
    "**Question:** Iterate through the first 5 rows of `workclass` and print each entry."
   ]
  },
  {
   "cell_type": "code",
   "execution_count": 30,
   "id": "f393c2fe",
   "metadata": {},
   "outputs": [
    {
     "name": "stdout",
     "output_type": "stream",
     "text": [
      "State-gov\n",
      "Self-emp-not-inc\n",
      "Private\n",
      "Private\n",
      "Private\n"
     ]
    }
   ],
   "source": [
    "# Your code here\n",
    "# Iterate through the first 5 rows of 'workclass' and print each entry\n",
    "for i in range(5):\n",
    "    print(df.iloc[i]['workclass'])"
   ]
  },
  {
   "cell_type": "markdown",
   "id": "95505624",
   "metadata": {},
   "source": [
    "### **Exercise 8: Functions**\n",
    "**Question:** Define a function `sum_columns` that takes two column names and an index, sums the values of the specified columns at the given index, and returns the result. Test it with `age` and `hours-per-week` at the first row."
   ]
  },
  {
   "cell_type": "code",
   "execution_count": 32,
   "id": "05034c7e",
   "metadata": {},
   "outputs": [
    {
     "name": "stdout",
     "output_type": "stream",
     "text": [
      "Sum of age and hours-per-week for the first row: 79\n"
     ]
    }
   ],
   "source": [
    "# Your code here\n",
    "# Function to sum two columns at a given index\n",
    "def sum_columns(col1, col2, index):\n",
    "    return df.iloc[index][col1] + df.iloc[index][col2]\n",
    "\n",
    "# Test the function with 'age' and 'hours-per-week' at the first row\n",
    "result = sum_columns('age', 'hours-per-week', 0)\n",
    "print(\"Sum of age and hours-per-week for the first row:\", result)\n"
   ]
  },
  {
   "cell_type": "markdown",
   "id": "35d4a4cf",
   "metadata": {},
   "source": [
    "### **Exercise 9: File Handling**\n",
    "**Question:** Save the first 10 rows of the dataframe to `output.csv` and read it back. Print the first 2 rows from the loaded CSV."
   ]
  },
  {
   "cell_type": "code",
   "execution_count": 34,
   "id": "5ad3fa94",
   "metadata": {},
   "outputs": [
    {
     "name": "stdout",
     "output_type": "stream",
     "text": [
      "   age         workclass  fnlwgt  education  education-num  \\\n",
      "0   39         State-gov   77516  Bachelors             13   \n",
      "1   50  Self-emp-not-inc   83311  Bachelors             13   \n",
      "\n",
      "       marital-status       occupation   relationship   race   sex  \\\n",
      "0       Never-married     Adm-clerical  Not-in-family  White  Male   \n",
      "1  Married-civ-spouse  Exec-managerial        Husband  White  Male   \n",
      "\n",
      "   capital-gain  capital-loss  hours-per-week native-country salary  \n",
      "0          2174             0              40  United-States  <=50K  \n",
      "1             0             0              13  United-States  <=50K  \n"
     ]
    }
   ],
   "source": [
    "# Your code here\n",
    "# Save the first 10 rows to 'output.csv'\n",
    "df.head(10).to_csv('output.csv', index=False)\n",
    "\n",
    "# Read the CSV back\n",
    "loaded_df = pd.read_csv('output.csv')\n",
    "\n",
    "# Print the first 2 rows from the loaded CSV\n",
    "print(loaded_df.head(2))\n"
   ]
  },
  {
   "cell_type": "markdown",
   "id": "6744b80f",
   "metadata": {},
   "source": [
    "### **Exercise 10: Debugging in Python**\n",
    "**Question:** Write a try/except block to handle a `KeyError` when accessing a non-existent column `\"salary\"`. Print an appropriate error message when caught."
   ]
  },
  {
   "cell_type": "code",
   "execution_count": 41,
   "id": "25de3093",
   "metadata": {},
   "outputs": [],
   "source": [
    "# Your code here\n",
    "# Try/except block to handle KeyError\n",
    "try:\n",
    "    salary_column = df['salary']\n",
    "except KeyError:\n",
    "    print(\"Error: The column 'salary' does not exist in the dataframe.\")\n"
   ]
  }
 ],
 "metadata": {
  "kernelspec": {
   "display_name": "Python [conda env:base] *",
   "language": "python",
   "name": "conda-base-py"
  },
  "language_info": {
   "codemirror_mode": {
    "name": "ipython",
    "version": 3
   },
   "file_extension": ".py",
   "mimetype": "text/x-python",
   "name": "python",
   "nbconvert_exporter": "python",
   "pygments_lexer": "ipython3",
   "version": "3.12.7"
  }
 },
 "nbformat": 4,
 "nbformat_minor": 5
}
